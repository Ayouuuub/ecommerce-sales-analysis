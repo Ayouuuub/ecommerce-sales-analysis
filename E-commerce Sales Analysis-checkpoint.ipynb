{
 "cells": [
  {
   "cell_type": "code",
   "execution_count": null,
   "id": "5c192690-44fc-48e8-8a06-7b1a66e5b0e9",
   "metadata": {},
   "outputs": [],
   "source": [
    "# ===========================\n",
    "# 📊 E-commerce Sales Analysis\n",
    "# ===========================\n",
    "\n",
    "# 1. Import Libraries\n",
    "import pandas as pd\n",
    "import matplotlib.pyplot as plt\n",
    "import seaborn as sns\n",
    "\n",
    "sns.set(style=\"whitegrid\", palette=\"muted\")\n",
    "\n",
    "# 2. Load Dataset\n",
    "df = pd.read_csv(\"OnlineRetail.csv\", encoding=\"ISO-8859-1\")\n",
    "\n",
    "# Quick look\n",
    "df.head()\n"
   ]
  },
  {
   "cell_type": "code",
   "execution_count": null,
   "id": "fc792dc6-4b40-4f0a-a2e8-f9d07df9b25c",
   "metadata": {},
   "outputs": [],
   "source": [
    "# 🛒 E-commerce Sales Analysis Report\n",
    "\n",
    "## 1. Introduction\n",
    "This project analyzes historical e-commerce transaction data to uncover sales performance, \n",
    "customer behavior, and product trends.\n",
    "\n",
    "**Objectives:**\n",
    "- Identify key revenue drivers (products, customers, markets).\n",
    "- Understand seasonality and time-based sales patterns.\n",
    "- Provide actionable business insights to optimize sales strategy.\n"
   ]
  },
  {
   "cell_type": "code",
   "execution_count": null,
   "id": "0dd2faef-90dc-45a9-b6aa-c32fe9da49cb",
   "metadata": {},
   "outputs": [],
   "source": [
    "# Remove duplicates\n",
    "df = df.drop_duplicates()\n",
    "\n",
    "# Drop rows without CustomerID\n",
    "df = df.dropna(subset=['CustomerID'])\n",
    "\n",
    "# Convert InvoiceDate to datetime\n",
    "df['InvoiceDate'] = pd.to_datetime(df['InvoiceDate'])\n",
    "\n",
    "# Create new time features\n",
    "df['Year'] = df['InvoiceDate'].dt.year\n",
    "df['Month'] = df['InvoiceDate'].dt.month\n",
    "df['MonthName'] = df['InvoiceDate'].dt.strftime('%b-%Y')\n",
    "df['Weekday'] = df['InvoiceDate'].dt.day_name()\n",
    "\n",
    "# Create Revenue column\n",
    "df['Revenue'] = df['Quantity'] * df['UnitPrice']\n",
    "\n",
    "# Filter invalid transactions\n",
    "df = df[(df['Quantity'] > 0) & (df['UnitPrice'] > 0)]\n",
    "\n",
    "df.head()\n"
   ]
  },
  {
   "cell_type": "code",
   "execution_count": null,
   "id": "661f26c0-e671-4352-a922-ee34f370de23",
   "metadata": {},
   "outputs": [],
   "source": [
    "monthly_revenue = df.groupby(['Year','Month'])['Revenue'].sum().reset_index()\n",
    "monthly_revenue['Date'] = pd.to_datetime(monthly_revenue[['Year','Month']].assign(DAY=1))\n",
    "\n",
    "plt.figure(figsize=(12,6))\n",
    "sns.lineplot(data=monthly_revenue, x=\"Date\", y=\"Revenue\", marker=\"o\")\n",
    "plt.title(\"Monthly Revenue Trend\", fontsize=16)\n",
    "plt.xlabel(\"Date\")\n",
    "plt.ylabel(\"Revenue\")\n",
    "plt.show()\n"
   ]
  },
  {
   "cell_type": "code",
   "execution_count": null,
   "id": "7c5599b4-bc73-41ab-a68e-0a9d1bb0e9ab",
   "metadata": {},
   "outputs": [],
   "source": [
    "### Insights\n",
    "- Revenue shows strong seasonality with spikes in November–December.\n",
    "- Lower activity in summer months → opportunity for seasonal promotions.\n"
   ]
  },
  {
   "cell_type": "code",
   "execution_count": null,
   "id": "7dddf3ed-651e-42f7-b6b6-167499411330",
   "metadata": {},
   "outputs": [],
   "source": [
    "top_products = df.groupby('Description')['Revenue'].sum().nlargest(10).reset_index()\n",
    "\n",
    "plt.figure(figsize=(12,6))\n",
    "sns.barplot(data=top_products, x=\"Revenue\", y=\"Description\", palette=\"viridis\")\n",
    "plt.title(\"Top 10 Products by Revenue\", fontsize=16)\n",
    "plt.xlabel(\"Revenue\")\n",
    "plt.ylabel(\"Product\")\n",
    "plt.show()\n"
   ]
  },
  {
   "cell_type": "code",
   "execution_count": null,
   "id": "9df675ae-52f8-4992-beb0-b0304d827475",
   "metadata": {},
   "outputs": [],
   "source": [
    "### Insights\n",
    "- The top 10 products contribute a significant share of total revenue.\n",
    "- Recommendation: Ensure inventory availability and create bundles.\n"
   ]
  },
  {
   "cell_type": "code",
   "execution_count": null,
   "id": "568f990b-e72e-49ca-8e40-1c1821ddd2e3",
   "metadata": {},
   "outputs": [],
   "source": [
    "country_revenue = df.groupby('Country')['Revenue'].sum().sort_values(ascending=False).head(10)\n",
    "\n",
    "plt.figure(figsize=(12,6))\n",
    "sns.barplot(x=country_revenue.values, y=country_revenue.index, palette=\"magma\")\n",
    "plt.title(\"Top 10 Countries by Revenue\", fontsize=16)\n",
    "plt.xlabel(\"Revenue\")\n",
    "plt.ylabel(\"Country\")\n",
    "plt.show()\n"
   ]
  },
  {
   "cell_type": "code",
   "execution_count": null,
   "id": "6fdeffb3-9334-4468-ac72-18a46ae572c9",
   "metadata": {},
   "outputs": [],
   "source": [
    "### Insights\n",
    "- United Kingdom dominates revenue (>80%).\n",
    "- Other markets: Netherlands, Germany, France.\n",
    "- Recommendation: Focus on localized marketing for high-potential countries.\n"
   ]
  },
  {
   "cell_type": "code",
   "execution_count": null,
   "id": "962a9e9e-fd69-4302-b0c0-e594c798d8c2",
   "metadata": {},
   "outputs": [],
   "source": [
    "top_customers = df.groupby('CustomerID')['Revenue'].sum().nlargest(10).reset_index()\n",
    "\n",
    "plt.figure(figsize=(12,6))\n",
    "sns.barplot(data=top_customers, x=\"Revenue\", y=\"CustomerID\", palette=\"coolwarm\")\n",
    "plt.title(\"Top 10 Customers by Revenue\", fontsize=16)\n",
    "plt.xlabel(\"Revenue\")\n",
    "plt.ylabel(\"Customer ID\")\n",
    "plt.show()\n"
   ]
  },
  {
   "cell_type": "code",
   "execution_count": null,
   "id": "c7ebd35e-e447-446d-9cf9-d2b5df09d5c5",
   "metadata": {},
   "outputs": [],
   "source": [
    "### Insights\n",
    "- A few customers generate disproportionate revenue (Pareto 80/20 rule).\n",
    "- Recommendation: Retain them with loyalty programs and retargeting.\n"
   ]
  },
  {
   "cell_type": "code",
   "execution_count": null,
   "id": "aa7cb34d-c196-446c-84ba-093103f1c065",
   "metadata": {},
   "outputs": [],
   "source": [
    "weekday_sales = df.groupby('Weekday')['Revenue'].sum().reindex([\n",
    "    \"Monday\",\"Tuesday\",\"Wednesday\",\"Thursday\",\"Friday\",\"Saturday\",\"Sunday\"\n",
    "])\n",
    "\n",
    "plt.figure(figsize=(10,6))\n",
    "sns.barplot(x=weekday_sales.index, y=weekday_sales.values, palette=\"Set2\")\n",
    "plt.title(\"Revenue by Day of the Week\", fontsize=16)\n",
    "plt.xlabel(\"Day of Week\")\n",
    "plt.ylabel(\"Revenue\")\n",
    "plt.show()\n"
   ]
  },
  {
   "cell_type": "code",
   "execution_count": null,
   "id": "96281646-f367-4599-a299-2e2d98e67dd7",
   "metadata": {},
   "outputs": [],
   "source": [
    "### Insights\n",
    "- Highest sales occur Tuesday–Thursday.\n",
    "- Recommendation: Launch mid-week promotions to maximize impact.\n"
   ]
  },
  {
   "cell_type": "code",
   "execution_count": null,
   "id": "58bb8d60-5c7f-4b13-966d-1940bf580028",
   "metadata": {},
   "outputs": [],
   "source": [
    "# 💡 Key Business Insights & Recommendations\n",
    "\n",
    "1. **Inventory Planning**: Stock up on top products before November–December peaks.\n",
    "2. **Customer Retention**: Reward top customers with loyalty discounts.\n",
    "3. **Market Expansion**: Explore campaigns in Germany/France.\n",
    "4. **Promotions**: Mid-week flash sales can outperform weekends.\n",
    "5. **Returns**: Investigate reasons behind returns/cancellations.\n"
   ]
  },
  {
   "cell_type": "code",
   "execution_count": null,
   "id": "6ec202f5-ea6c-40b5-baae-e8ab9b0ec555",
   "metadata": {},
   "outputs": [],
   "source": [
    "# 📂 Deliverables\n",
    "\n",
    "- **EDA Notebook (Python)** – data cleaning + analysis code.\n",
    "- **Power BI Dashboard** – interactive KPIs and drilldowns.\n",
    "- **Business Report (PDF/Markdown)** – insights & recommendations.\n"
   ]
  },
  {
   "cell_type": "code",
   "execution_count": null,
   "id": "a21a5e68-3c55-4d86-94db-8e404e8bfcb1",
   "metadata": {},
   "outputs": [],
   "source": []
  }
 ],
 "metadata": {
  "kernelspec": {
   "display_name": "Python 3 (ipykernel)",
   "language": "python",
   "name": "python3"
  },
  "language_info": {
   "codemirror_mode": {
    "name": "ipython",
    "version": 3
   },
   "file_extension": ".py",
   "mimetype": "text/x-python",
   "name": "python",
   "nbconvert_exporter": "python",
   "pygments_lexer": "ipython3",
   "version": "3.12.10"
  }
 },
 "nbformat": 4,
 "nbformat_minor": 5
}
